{
 "cells": [
  {
   "cell_type": "markdown",
   "metadata": {},
   "source": [
    "# Importing data\n",
    "### source:\n",
    "https://www.tensorflow.org/guide/datasets#consuming_values_from_an_iterator\n",
    "\n",
    "### purpose:\n",
    " - __creating a source__: building reusable input pipelines for tf models\n",
    " - __applying a transformation__: manipulating with the data (batching, shuffling)\n",
    " \n",
    "### basic objects:\n",
    " - __tf.data.Dataset__: represents sequence of elements, where elements are one or more Tensor objects"
   ]
  },
  {
   "cell_type": "markdown",
   "metadata": {},
   "source": [
    "## 0. Preparations"
   ]
  },
  {
   "cell_type": "code",
   "execution_count": 1,
   "metadata": {},
   "outputs": [
    {
     "name": "stderr",
     "output_type": "stream",
     "text": [
      "c:\\users\\martin\\appdata\\local\\continuum\\anaconda3\\envs\\speech-recognition\\lib\\site-packages\\h5py\\__init__.py:34: FutureWarning: Conversion of the second argument of issubdtype from `float` to `np.floating` is deprecated. In future, it will be treated as `np.float64 == np.dtype(float).type`.\n",
      "  from ._conv import register_converters as _register_converters\n"
     ]
    },
    {
     "name": "stdout",
     "output_type": "stream",
     "text": [
      "WARNING:tensorflow:From <ipython-input-1-15eced0f7f35>:8: read_data_sets (from tensorflow.contrib.learn.python.learn.datasets.mnist) is deprecated and will be removed in a future version.\n",
      "Instructions for updating:\n",
      "Please use alternatives such as official/mnist/dataset.py from tensorflow/models.\n",
      "WARNING:tensorflow:From c:\\users\\martin\\appdata\\local\\continuum\\anaconda3\\envs\\speech-recognition\\lib\\site-packages\\tensorflow\\contrib\\learn\\python\\learn\\datasets\\mnist.py:260: maybe_download (from tensorflow.contrib.learn.python.learn.datasets.base) is deprecated and will be removed in a future version.\n",
      "Instructions for updating:\n",
      "Please write your own downloading logic.\n",
      "WARNING:tensorflow:From c:\\users\\martin\\appdata\\local\\continuum\\anaconda3\\envs\\speech-recognition\\lib\\site-packages\\tensorflow\\contrib\\learn\\python\\learn\\datasets\\mnist.py:262: extract_images (from tensorflow.contrib.learn.python.learn.datasets.mnist) is deprecated and will be removed in a future version.\n",
      "Instructions for updating:\n",
      "Please use tf.data to implement this functionality.\n",
      "Extracting MNIST_data\\train-images-idx3-ubyte.gz\n",
      "WARNING:tensorflow:From c:\\users\\martin\\appdata\\local\\continuum\\anaconda3\\envs\\speech-recognition\\lib\\site-packages\\tensorflow\\contrib\\learn\\python\\learn\\datasets\\mnist.py:267: extract_labels (from tensorflow.contrib.learn.python.learn.datasets.mnist) is deprecated and will be removed in a future version.\n",
      "Instructions for updating:\n",
      "Please use tf.data to implement this functionality.\n",
      "Extracting MNIST_data\\train-labels-idx1-ubyte.gz\n",
      "WARNING:tensorflow:From c:\\users\\martin\\appdata\\local\\continuum\\anaconda3\\envs\\speech-recognition\\lib\\site-packages\\tensorflow\\contrib\\learn\\python\\learn\\datasets\\mnist.py:110: dense_to_one_hot (from tensorflow.contrib.learn.python.learn.datasets.mnist) is deprecated and will be removed in a future version.\n",
      "Instructions for updating:\n",
      "Please use tf.one_hot on tensors.\n",
      "Extracting MNIST_data\\t10k-images-idx3-ubyte.gz\n",
      "Extracting MNIST_data\\t10k-labels-idx1-ubyte.gz\n",
      "WARNING:tensorflow:From c:\\users\\martin\\appdata\\local\\continuum\\anaconda3\\envs\\speech-recognition\\lib\\site-packages\\tensorflow\\contrib\\learn\\python\\learn\\datasets\\mnist.py:290: DataSet.__init__ (from tensorflow.contrib.learn.python.learn.datasets.mnist) is deprecated and will be removed in a future version.\n",
      "Instructions for updating:\n",
      "Please use alternatives such as official/mnist/dataset.py from tensorflow/models.\n"
     ]
    }
   ],
   "source": [
    "import tensorflow as tf\n",
    "import numpy as np\n",
    "from tensorflow.examples.tutorials.mnist import input_data\n",
    "from matplotlib import pyplot as plt\n",
    "\n",
    "# tf.enable_eager_execution() # evaluates operations immediately, without building graphs\n",
    "\n",
    "mnist = input_data.read_data_sets('MNIST_data', one_hot=True)\n",
    "\n",
    "(x_train, y_train),(x_test, y_test) = (mnist.train.images, mnist.train.labels), (mnist.test.images, mnist.test.labels)"
   ]
  },
  {
   "cell_type": "code",
   "execution_count": 2,
   "metadata": {},
   "outputs": [
    {
     "name": "stdout",
     "output_type": "stream",
     "text": [
      "trainning label 0: [0. 0. 0. 0. 0. 0. 0. 1. 0. 0.]\n"
     ]
    },
    {
     "data": {
      "image/png": "[encoded data removed]",
      "text/plain": [
       "<Figure size 432x288 with 1 Axes>"
      ]
     },
     "metadata": {
      "needs_background": "light"
     },
     "output_type": "display_data"
    }
   ],
   "source": [
    "# data example\n",
    "plt.imshow(np.reshape(x_train[0], newshape=(28,28)))\n",
    "plt.title('training input 0')\n",
    "print(\"trainning label 0: {}\".format(y_train[0]))"
   ]
  },
  {
   "cell_type": "markdown",
   "metadata": {},
   "source": [
    "## 1. __tf.data.Dataset__\n",
    "### 1.1 creating a source \n",
    "#### 1.1a) from tensors\n",
    " - creates dataset with only one element\n",
    " - the first dimension of the input tensors don't have to be consistent"
   ]
  },
  {
   "cell_type": "code",
   "execution_count": 11,
   "metadata": {},
   "outputs": [
    {
     "name": "stdout",
     "output_type": "stream",
     "text": [
      "output types: (tf.float32, tf.float64)\n",
      "output shapes: (TensorShape([Dimension(55000), Dimension(784)]), TensorShape([Dimension(55000), Dimension(10)]))\n"
     ]
    }
   ],
   "source": [
    "ds_from_tensors = tf.data.Dataset.from_tensors((x_train, y_train))\n",
    "print(\"output types: \" + str(ds_from_tensors.output_types))\n",
    "print(\"output shapes: \" + str(ds_from_tensors.output_shapes))"
   ]
  },
  {
   "cell_type": "markdown",
   "metadata": {},
   "source": [
    " - the result is a Dataset object with __one element__ containing two components:\n",
    "     1. x_train tensor with dimensions __55000x784__\n",
    "     2. y_train tensor with dimensions __55000x10__"
   ]
  },
  {
   "cell_type": "markdown",
   "metadata": {},
   "source": [
    "#### 1.1b) from tensor slices\n",
    " - creates dataset with elements which are slices of the input tensors\n",
    " - the first dimension of the input tensors must be consistent (each row is one element of the Dataset)"
   ]
  },
  {
   "cell_type": "code",
   "execution_count": 12,
   "metadata": {},
   "outputs": [
    {
     "name": "stdout",
     "output_type": "stream",
     "text": [
      "output types: (tf.float32, tf.float64)\n",
      "output shapes: (TensorShape([Dimension(784)]), TensorShape([Dimension(10)]))\n"
     ]
    }
   ],
   "source": [
    "ds_from_tensor_slices = tf.data.Dataset.from_tensor_slices((x_train, y_train))\n",
    "print(\"output types: \" + str(ds_from_tensor_slices.output_types))\n",
    "print(\"output shapes: \" + str(ds_from_tensor_slices.output_shapes))"
   ]
  },
  {
   "cell_type": "markdown",
   "metadata": {},
   "source": [
    " - the result is a Dataset object with __55000 elements__ (one for each row in input tensors) each containing two components:\n",
    "     1. x_train tensor slice with dimensions __784__\n",
    "     2. y_train tensor slice with dimensions __10__"
   ]
  },
  {
   "cell_type": "markdown",
   "metadata": {},
   "source": [
    "#### 1.1c) from generator\n",
    " - creates dataset with each element being one output from the generator\n",
    " - useful when each generated element has different size (eg. MFCC with variable time length)"
   ]
  },
  {
   "cell_type": "code",
   "execution_count": 2,
   "metadata": {},
   "outputs": [],
   "source": [
    "def gen_data(x_train, y_train):\n",
    "    for x, y in zip(x_train, y_train):\n",
    "        yield (x, y)"
   ]
  },
  {
   "cell_type": "code",
   "execution_count": 14,
   "metadata": {},
   "outputs": [
    {
     "name": "stdout",
     "output_type": "stream",
     "text": [
      "output types: (tf.float32, tf.uint8)\n",
      "output shapes: (TensorShape([Dimension(784)]), TensorShape([Dimension(10)]))\n"
     ]
    }
   ],
   "source": [
    "ds_from_generator = tf.data.Dataset.from_generator(gen_data,\n",
    "                                                   output_types=(tf.float32, tf.uint8),\n",
    "                                                   output_shapes=(tf.TensorShape([784]), tf.TensorShape([10])),\n",
    "                                                   args=(x_train, y_train))\n",
    "print(\"output types: {}\".format(ds_from_generator.output_types))\n",
    "print(\"output shapes: {}\".format(ds_from_generator.output_shapes))"
   ]
  },
  {
   "cell_type": "markdown",
   "metadata": {},
   "source": [
    "## 2. tf.data.Iterator"
   ]
  },
  {
   "cell_type": "code",
   "execution_count": 15,
   "metadata": {},
   "outputs": [],
   "source": [
    "epochs = 1\n",
    "batch_size = 2\n",
    "\n",
    "ds_from_generator = ds_from_generator.batch(batch_size)  # transform into batches\n",
    "iterator = ds_from_generator.make_one_shot_iterator()\n",
    "data_x, data_y = iterator.get_next()\n",
    "\n",
    "g = tf.Graph()\n",
    "\n",
    "with g.as_default():\n",
    "    x = tf.add(data_x, 1)\n",
    "    y = tf.subtract(data_y, 1)\n",
    "    model_output = (x, y)"
   ]
  },
  {
   "cell_type": "code",
   "execution_count": 18,
   "metadata": {},
   "outputs": [
    {
     "name": "stdout",
     "output_type": "stream",
     "text": [
      "(2, 784)\n",
      "(2, 10)\n",
      "[255 255 255 255 255 255 255   0 255 255]\n",
      "[255 255 255   0 255 255 255 255 255 255]\n"
     ]
    },
    {
     "data": {
      "image/png": "[encoded data removed]",
      "text/plain": [
       "<Figure size 432x288 with 1 Axes>"
      ]
     },
     "metadata": {
      "needs_background": "light"
     },
     "output_type": "display_data"
    },
    {
     "data": {
      "image/png": "[encoded data removed]",
      "text/plain": [
       "<Figure size 432x288 with 1 Axes>"
      ]
     },
     "metadata": {
      "needs_background": "light"
     },
     "output_type": "display_data"
    }
   ],
   "source": [
    "with tf.Session() as sess:\n",
    "    for _ in range(epochs):\n",
    "        x_out, y_out = sess.run(model_output)\n",
    "\n",
    "        print(x_out.shape)\n",
    "        print(y_out.shape)\n",
    "        \n",
    "        for x, y in zip(x_out, y_out):\n",
    "            plt.figure()\n",
    "            plt.imshow(np.reshape(x, newshape=(28, 28)))\n",
    "            print(y)"
   ]
  },
  {
   "cell_type": "code",
   "execution_count": 39,
   "metadata": {},
   "outputs": [
    {
     "name": "stdout",
     "output_type": "stream",
     "text": [
      "output types: {'x_train': tf.float32, 'y_train': tf.float64}\n",
      "output shapes: {'x_train': TensorShape([Dimension(55000), Dimension(784)]), 'y_train': TensorShape([Dimension(55000), Dimension(10)])}\n"
     ]
    }
   ],
   "source": [
    "# You can give names to the componensts of Dataset elements\n",
    "ds_from_tensors_with_names = tf.data.Dataset.from_tensors({\"x_train\": x_train, \"y_train\": y_train})\n",
    "print(\"output types: {}\".format(ds_from_tensors_with_names.output_types))\n",
    "print(\"output shapes: {}\".format(ds_from_tensors_with_names.output_shapes))"
   ]
  },
  {
   "cell_type": "code",
   "execution_count": null,
   "metadata": {},
   "outputs": [],
   "source": []
  },
  {
   "cell_type": "code",
   "execution_count": null,
   "metadata": {},
   "outputs": [],
   "source": []
  }
 ],
 "metadata": {
  "kernelspec": {
   "display_name": "Python 3",
   "language": "python",
   "name": "python3"
  },
  "language_info": {
   "codemirror_mode": {
    "name": "ipython",
    "version": 3
   },
   "file_extension": ".py",
   "mimetype": "text/x-python",
   "name": "python",
   "nbconvert_exporter": "python",
   "pygments_lexer": "ipython3",
   "version": "3.6.7"
  }
 },
 "nbformat": 4,
 "nbformat_minor": 2
}
